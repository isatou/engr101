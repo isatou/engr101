{
 "cells": [
  {
   "cell_type": "markdown",
   "metadata": {},
   "source": [
    "## ENGR101\n",
    "## Variables\n",
    "\n",
    "## 01 - 01 Variables\n",
    "As the name implies, a variable is something that can change. A variable is just a way of referring to a memory location used by a python program. Based on the datatype of the variable, the python interpreter allocates the memory and decides what can be stored in the reserved memory. This makes python a **dynamically-typed** language.\n",
    "> <img src=\"./images/addnl_info.png\" height=40, width=40, align=left> <br>\n",
    "> - If you are familiar with other programming languages like C, C++ or Java it might be tempting to consider variable as just a container to store data. However in Python, you can at best, think of variables as pointers. This is why you can *dynamically* change the type of data that a variable is pointing at.\n",
    "\n",
    "\n",
    "> ##### Remember:\n",
    "> - To run a cell, you can press `Shift+Enter` (to execute and go to next cell) or `Ctrl+Enter` (to execute and stay on the same cell).\n",
    "> - To add an empty cell, press `Esc` to get out of edit mode and press either `b` key (to add it after the current cell) or `a` key (to add it before the current cell). \n",
    "> - You can make edits to the code and play around with it.\n"
   ]
  },
  {
   "cell_type": "markdown",
   "metadata": {},
   "source": [
    "Python has following 6 built-in Data-Types:\n",
    "\n",
    "| Type     | Description           | Example |\n",
    "|----------|-----------------------|---------|\n",
    "| int      | Integer values        | 123     |\n",
    "| float    | Floating point values | 10.12   |\n",
    "| complex  | Complex values        | 1 + 3j  |\n",
    "| bool     | Boolean values        | True    |\n",
    "| str      | String values         | \"Hello\" |\n",
    "| NoneType | None value            | None    |"
   ]
  },
  {
   "cell_type": "code",
   "execution_count": 12,
   "metadata": {},
   "outputs": [
    {
     "name": "stdout",
     "output_type": "stream",
     "text": [
      "10\n",
      "2.5\n",
      "(1+3j)\n",
      "True\n",
      "Hello\n",
      "None\n"
     ]
    }
   ],
   "source": [
    "my_int = 10 # this is an int\n",
    "print(my_int)\n",
    "my_float = 2.5 # this is a float\n",
    "print(my_float)\n",
    "my_complex = 1 + 3j # this is a complex number\n",
    "print (my_complex)\n",
    "my_bool = True # this is a boolean value\n",
    "print(my_bool)\n",
    "my_str = \"Hello\" # this is a string\n",
    "print(my_str)\n",
    "my_none = None # this is a None/null value\n",
    "print(my_none)\n",
    "\n"
   ]
  },
  {
   "cell_type": "markdown",
   "metadata": {},
   "source": [
    "### 01 - 01.01 Assigning values to variables\n",
    "One of the main differences between Python and strongly types languages like C++ or Java is the way it deals with the data types. In languages like C++ or Java, every variable must have a unique data type i.e if a variable is of type string it cannot store integers or floats. Moreover every variable has to be declared before it can be used, thus binding it to the data type that can be stored in it. Python variables do not need explicit declaration to reserve memory space. The declaration happens automatically when a value is assigned to a variable. This means that a variable that was used to store a string can now be used to store an integer. Try it out. Do something like this:"
   ]
  },
  {
   "cell_type": "code",
   "execution_count": null,
   "metadata": {},
   "outputs": [],
   "source": [
    "var = 'I am in NYC'\n",
    "print(var)"
   ]
  },
  {
   "cell_type": "markdown",
   "metadata": {},
   "source": [
    "`var` is a string in the above case. \n",
    "\n",
    "Well.. don't take my word for it. Lets confirm"
   ]
  },
  {
   "cell_type": "code",
   "execution_count": null,
   "metadata": {},
   "outputs": [],
   "source": [
    "type(var)"
   ]
  },
  {
   "cell_type": "markdown",
   "metadata": {},
   "source": [
    "[`type`](https://docs.python.org/2/library/functions.html#type) is a built-in function that returns the datatype of anything.. and by anything, I mean absolutely anything (give it a spin!). It is one of the cool things in Python. We will talk about this and many other cool built-in functions in the later chapters. \n",
    "\n",
    "so now if I point our variable `var` to, lets say, an integer.. it will simply work"
   ]
  },
  {
   "cell_type": "code",
   "execution_count": null,
   "metadata": {},
   "outputs": [],
   "source": [
    "var = 123\n",
    "type(var)"
   ]
  },
  {
   "cell_type": "markdown",
   "metadata": {},
   "source": [
    "So what are the **rules** of naming a variable?\n",
    "\n",
    "Every language has some rules for naming the identifier of variables (aka the variable name). In Python, a valid identifier is a non-empty sequence of characters of any length with:\n",
    "\n",
    "The start of the character can be an underscore \"\\_\" or a capital or lower case letter. However it is generally recommended to use all upper case for global variables and all lower case for local variables.\n",
    "The letters following the first letter can be a digit or a string.\n",
    "Python is a case-sensitive language. Therefore, `var` is not equal to `VAR` or `vAr`.\n",
    "\n",
    "Apart from above restrictions, python keywords cannot be used as identifier names. These are:\n",
    "\n",
    "||||||\n",
    "|:-------|:--------|:---------|:--------|:----|\n",
    "|and     |del      |from      |not      |while|\n",
    "|as      | elif    |global    |or       |with |\n",
    "|assert  | else    | if       |pass     |yield|\n",
    "|break   | except  | import   |print\n",
    "|class   | exec    | in       |raise\n",
    "|continue| finally | is       |return \n",
    "|def     | for     | lambda   |try\n"
   ]
  },
  {
   "cell_type": "markdown",
   "metadata": {},
   "source": [
    "### 01 - 01.02 Multiple Assignment\n",
    "Python allows you to assign a single value to several variables simultaneously. For example:"
   ]
  },
  {
   "cell_type": "code",
   "execution_count": null,
   "metadata": {},
   "outputs": [],
   "source": [
    "x = y = z = a = 1\n",
    "\n",
    "# print the variables declared above"
   ]
  },
  {
   "cell_type": "markdown",
   "metadata": {},
   "source": [
    "or even assign different values to different variables:"
   ]
  },
  {
   "cell_type": "code",
   "execution_count": null,
   "metadata": {},
   "outputs": [],
   "source": [
    "x, y, z, a = 'Hello', 'World', 1, 2\n",
    "\n",
    "# print the variables declared above"
   ]
  },
  {
   "cell_type": "code",
   "execution_count": null,
   "metadata": {},
   "outputs": [],
   "source": [
    "# TODO\n",
    "\"\"\"\n",
    "1. Create a variable called my_name and \n",
    "assign it your name\n",
    "2. Print the variable\n",
    "\"\"\""
   ]
  },
  {
   "cell_type": "code",
   "execution_count": null,
   "metadata": {},
   "outputs": [],
   "source": [
    "# TODO\n",
    "\"\"\"\n",
    "1. Create a variable called current_year and \n",
    "assign it with the current year\n",
    "2. Print the variable\n",
    "\"\"\""
   ]
  },
  {
   "cell_type": "markdown",
   "metadata": {},
   "source": [
    "### Arithmetic Operators"
   ]
  },
  {
   "cell_type": "markdown",
   "metadata": {},
   "source": [
    "As the name suggests, Arithmetic Operators includes all the operators to perform basic arithmetic functions."
   ]
  },
  {
   "cell_type": "markdown",
   "metadata": {},
   "source": [
    "#### Addition (+)"
   ]
  },
  {
   "cell_type": "markdown",
   "metadata": {},
   "source": [
    "Addition operator adds the value of the operands on its either side. "
   ]
  },
  {
   "cell_type": "code",
   "execution_count": 17,
   "metadata": {},
   "outputs": [
    {
     "data": {
      "text/plain": [
       "4"
      ]
     },
     "execution_count": 17,
     "metadata": {},
     "output_type": "execute_result"
    }
   ],
   "source": [
    "2 + 2"
   ]
  },
  {
   "cell_type": "code",
   "execution_count": 19,
   "metadata": {},
   "outputs": [
    {
     "name": "stdout",
     "output_type": "stream",
     "text": [
      "10.1\n"
     ]
    }
   ],
   "source": [
    "sum = 4.1 + 6\n",
    "print(sum)"
   ]
  },
  {
   "cell_type": "markdown",
   "metadata": {},
   "source": [
    "####  Subtraction (-)"
   ]
  },
  {
   "cell_type": "markdown",
   "metadata": {},
   "source": [
    "Subtracts right hand operand with the operand on the left hand."
   ]
  },
  {
   "cell_type": "code",
   "execution_count": null,
   "metadata": {},
   "outputs": [],
   "source": [
    "4 - 3"
   ]
  },
  {
   "cell_type": "code",
   "execution_count": null,
   "metadata": {},
   "outputs": [],
   "source": [
    "# TODO\n",
    "\"\"\"\n",
    "1. Create a variable and assign it with the\n",
    "results of a substraction between any two numbers\n",
    "2. Print the variable\n",
    "\"\"\""
   ]
  },
  {
   "cell_type": "markdown",
   "metadata": {},
   "source": [
    "####  Multiplication ( * )"
   ]
  },
  {
   "cell_type": "markdown",
   "metadata": {},
   "source": [
    "Multiplies the operands on its either sides and outputs the product."
   ]
  },
  {
   "cell_type": "code",
   "execution_count": null,
   "metadata": {},
   "outputs": [],
   "source": [
    "2 * 2"
   ]
  },
  {
   "cell_type": "code",
   "execution_count": null,
   "metadata": {},
   "outputs": [],
   "source": [
    "# TODO\n",
    "\"\"\"\n",
    "1. Create a variable and assign it with the\n",
    "results of a multiplication between any two numbers\n",
    "2. Print the variable\n",
    "\"\"\""
   ]
  },
  {
   "cell_type": "markdown",
   "metadata": {},
   "source": [
    "#### Division ( / )"
   ]
  },
  {
   "cell_type": "markdown",
   "metadata": {},
   "source": [
    "Divides left hand operand with the right hand operand and outputs the quotient of the division."
   ]
  },
  {
   "cell_type": "code",
   "execution_count": null,
   "metadata": {},
   "outputs": [],
   "source": [
    "2 / 2"
   ]
  },
  {
   "cell_type": "code",
   "execution_count": null,
   "metadata": {},
   "outputs": [],
   "source": [
    "# TODO\n",
    "\"\"\"\n",
    "1. Create a variable and assign it with the\n",
    "results of a division between any two numbers\n",
    "2. Print the variable\n",
    "\"\"\""
   ]
  },
  {
   "cell_type": "markdown",
   "metadata": {},
   "source": [
    "#### Modulus ( % )"
   ]
  },
  {
   "cell_type": "markdown",
   "metadata": {},
   "source": [
    "Divides left hand operand with the right hand operate and outputs the remainder of the division."
   ]
  },
  {
   "cell_type": "code",
   "execution_count": null,
   "metadata": {},
   "outputs": [],
   "source": [
    "7 % 2"
   ]
  },
  {
   "cell_type": "code",
   "execution_count": null,
   "metadata": {},
   "outputs": [],
   "source": [
    "# TODO\n",
    "\"\"\"\n",
    "1. Create a variable and assign it with the\n",
    "results of a modulus between any two numbers\n",
    "2. Print the variable\n",
    "\"\"\""
   ]
  },
  {
   "cell_type": "markdown",
   "metadata": {},
   "source": [
    "#### Exponential ( ** )"
   ]
  },
  {
   "cell_type": "markdown",
   "metadata": {},
   "source": [
    "Performs exponential operation on the operands. The left hand operand is 'raised to' the right hand operand."
   ]
  },
  {
   "cell_type": "code",
   "execution_count": null,
   "metadata": {},
   "outputs": [],
   "source": [
    "4 ** 4"
   ]
  },
  {
   "cell_type": "code",
   "execution_count": null,
   "metadata": {},
   "outputs": [],
   "source": [
    "# TODO\n",
    "\"\"\"\n",
    "1. Create a variable and assign it with the\n",
    "results of an exponential operation between any two numbers\n",
    "2. Print the variable\n",
    "\"\"\""
   ]
  },
  {
   "cell_type": "markdown",
   "metadata": {},
   "source": [
    "#### Floor Division ( // )"
   ]
  },
  {
   "cell_type": "markdown",
   "metadata": {},
   "source": [
    "Divides the left hand operand with the right hand operand and outputs the quotient of the division removing the digits after decimal point."
   ]
  },
  {
   "cell_type": "code",
   "execution_count": null,
   "metadata": {},
   "outputs": [],
   "source": [
    "3.0 // 2"
   ]
  },
  {
   "cell_type": "code",
   "execution_count": null,
   "metadata": {},
   "outputs": [],
   "source": [
    "# TODO\n",
    "\"\"\"\n",
    "1. Create a variable and assign it with the\n",
    "results of a floor operation between any two numbers\n",
    "2. Print the variable\n",
    "\"\"\""
   ]
  }
 ],
 "metadata": {
  "anaconda-cloud": {},
  "kernelspec": {
   "display_name": "Python 3",
   "language": "python",
   "name": "python3"
  },
  "language_info": {
   "codemirror_mode": {
    "name": "ipython",
    "version": 3
   },
   "file_extension": ".py",
   "mimetype": "text/x-python",
   "name": "python",
   "nbconvert_exporter": "python",
   "pygments_lexer": "ipython3",
   "version": "3.6.4"
  }
 },
 "nbformat": 4,
 "nbformat_minor": 2
}
