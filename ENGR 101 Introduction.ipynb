{
 "cells": [
  {
   "cell_type": "markdown",
   "metadata": {},
   "source": [
    "# Welcome to ENGR 101 Lab"
   ]
  },
  {
   "cell_type": "markdown",
   "metadata": {},
   "source": [
    "Welcome to ENGR10100. This module aims to familarize you with objective oriented programming -- Python. \n",
    "With this in mind, I would encourage you to think of programming not as a new domain of knowledge to learn, but a new set of skills that you can apply within your current area of expertise. By the end of this module, I hope to:\n",
    "- Get you familiar with Python programming language (that will be used throughout your undergrad studies)"
   ]
  },
  {
   "cell_type": "markdown",
   "metadata": {},
   "source": [
    "# Lab Repo: https://github.com/isatou/engr101\n",
    "The Lab notebooks will be added here."
   ]
  },
  {
   "cell_type": "markdown",
   "metadata": {},
   "source": [
    "# Why Python?\n",
    "Python is the language of the Python Interpreter - better readability, fewer lines of code, object-oriented, imperative, functional programming with procedural styles. It has gained increasing popularity over the years and is the acclaimed the most used language for machine learning. \n",
    "For Python starters - be prepared for a lot of errors: Syntax errors, ValueErrors, TypeErrors, you name it. You'll get better. Practice is key."
   ]
  },
  {
   "cell_type": "markdown",
   "metadata": {},
   "source": [
    "# Set up Environment"
   ]
  },
  {
   "cell_type": "markdown",
   "metadata": {},
   "source": [
    "In Ubuntu, Python should be installed by default. On Windows, Python is installed to a directory with its version number embedded, like C:\\Python27\\   \n",
    "Although, you should install ipython & jupyter notebook on your local machine too:  \n",
    "Download from Anaconda:\n",
    "#### https://www.anaconda.com/download/ important: choose the python 2.7 one\n",
    "#### https://docs.continuum.io/anaconda/install/mac-os#macos-graphical-install graphical tutorial\n",
    "#### http://jupyter.readthedocs.io/en/latest/install.html \n",
    "I'd recommend installing via Anaconda.\n",
    "\n",
    "# Windows tutorial\n",
    "https://codeburst.io/install-python-on-windows-anaconda-c63c7c3d1444\n",
    "\n",
    "# Mac tutorial \n",
    "https://mas-dse.github.io/startup/anaconda-macosx-install/"
   ]
  },
  {
   "cell_type": "markdown",
   "metadata": {},
   "source": [
    "choose your operating system version: https://repo.continuum.io/archive/"
   ]
  },
  {
   "cell_type": "markdown",
   "metadata": {},
   "source": [
    "If you're running on a os system, type these in command line. If you're running other OS, replace the Anaconda2-4.4.0-Linux-x86_64.sh with corresponding filename.\n",
    "#### Linux: go to terminal and type in:\n",
    "`wget https://repo.continuum.io/archive/Anaconda2-4.4.0-Linux-x86_64.sh` \n",
    "#### OS:  \n",
    "in bash:\n",
    "`~/Downloads/Anaconda2-4.4.0-MacOSX-x86_64.sh` installing  "
   ]
  },
  {
   "cell_type": "markdown",
   "metadata": {},
   "source": [
    "#### Check Python Version: We're using Python 2.7"
   ]
  },
  {
   "cell_type": "code",
   "execution_count": 1,
   "metadata": {
    "scrolled": true
   },
   "outputs": [
    {
     "name": "stdout",
     "output_type": "stream",
     "text": [
      "Python 3.6.4 :: Anaconda, Inc.\r\n"
     ]
    }
   ],
   "source": [
    "!python --version"
   ]
  },
  {
   "cell_type": "markdown",
   "metadata": {},
   "source": [
    "#### Before starting, you might also want to check out Jupyter Notebook Shortcut:\n",
    "https://www.dataquest.io/blog/jupyter-notebook-tips-tricks-shortcuts/  \n",
    "##### PEP 8 Style guide:  \n",
    "https://www.python.org/dev/peps/pep-0008/\n",
    "Finally, we will be introduced to the basic Python syntax, concept of whitespaces, using comments and general [`PEP8`](https://www.python.org/dev/peps/pep-0008/) styling guidelines which we will follow throughout our Lab (and something you should follow, always)."
   ]
  },
  {
   "cell_type": "markdown",
   "metadata": {},
   "source": [
    "## Introduction to Jupyter Notebook"
   ]
  },
  {
   "cell_type": "markdown",
   "metadata": {},
   "source": [
    "#### What is a Notebook\n",
    "The Juputer notebook (successor of Ipython notebook) is a **web based interactive computational environment** which provides a unique combination of code, shell environment and text. The Ipython notebook project that started of as a tool to provide the above mentioned functionalities just for python has since grown to be language agnostic supporting over 40 different languages and is now known as Jupyter notebook (or simply notebook). Simply put, a Jupter notebook is a [JSON](http://www.json.org/) document containing an ordered list of input/output cells which can contain code, text, mathematics, plots and rich media.\n",
    "\n",
    "The Jupyter Notebook combines three components:\n",
    "- **The notebook web application:** An interactive web application for writing and running code interactively and authoring notebook documents.\n",
    "- **Kernels:** Separate processes started by the notebook web application that runs user's code in a given language and returns output back to the notebook web application. The kernel also handles things like computations for interactive widgets, tab completion and introspection. \n",
    "> - The Jupyter notebook, for running python codes, runs an ipython kernel.\n",
    "> - If you are viewing this document on CUSP CDF and if you run any code, the code is not executed on your local machine. It is executed on the CDF server.. where the ipython kernel is running.\n",
    "- **Notebook documents:** Self-contained documents that contain a representation of all the contents visible in the notebook web application, including inputs and outputs of the computations, narrative text, equations, images, and rich media representations of objects. Each notebook document has its own kernel.\n",
    "\n",
    "#### Why do we even use a notebook instead of .. lets say .. a terminal or some text editor?\n",
    "The notebook web application enables users to:\n",
    "- Edit code in the browser, with automatic syntax highlighting, indentation, and tab completion/introspection.\n",
    "- Run code from the browser, with the results of computations attached to the code which generated them.\n",
    "- See the results of computations with rich media representations, such as HTML, $LaTeX$, PNG, SVG, PDF, etc.\n",
    "- Create and use interactive JavaScript widgets, which bind interactive user interface controls and visualizations to reactive kernel side computations.\n",
    "- Author narrative text using the Markdown markup language.\n",
    "- Build hierarchical documents that are organized into sections with different levels of headings.\n",
    "- Use different cell types, for example, to include mathematical equations using $LaTeX$ syntax in Markdown, which are rendered in-browser by MathJax.\n",
    "\n",
    "#### DIfferent Cell Types?\n",
    "Notebooks consist of a linear sequence of cells. There are four basic cell types:\n",
    "- **Code cells:** Input and output of live code that is run in the kernel\n",
    "- **Markdown cells:** Narrative text with embedded LaTeX equations\n",
    "- **Heading cells:** 6 levels of hierarchical organization and formatting\n",
    "- **Raw cells:** Unformatted text that is included, without modification, when notebooks are converted to different formats using nbconvert\n",
    "These cell types can be viewed by clicking `Cell -> Cell Type` in menu bar"
   ]
  },
  {
   "cell_type": "markdown",
   "metadata": {},
   "source": [
    "#### Working with Notebook\n",
    "\n",
    "##### Dashboard\n",
    "Once you have opened jupyter notebook in browser, you should see a dashboard. The dashboard serves as a home page for the notebook displaying the notebooks and files in the current directory.\n",
    "<img src=\"./images/00/localhost_dash.png\" alt=\"Jupyter notebook dashboard\" align='center'>\n",
    "\n",
    "##### New Notebook\n",
    "Once you navigate to your home directories (from where you have opened this notebook), you can create a new notebook by clicking on New on top right corner and selecting `Python 2` or `Python 3`\n",
    "<img src=\"./images/00/new_py2.png\" alt=\"Jupyter notebook dashboard\" align='center'>\n",
    ">We'll be using python2\n",
    "\n",
    "Jupyter Notebook has a modal user interface. This means that the keyboard does different things depending on which mode the Notebook is in. There are two modes: **Edit** mode and **Command** mode.\n",
    "\n",
    "- ##### Edit Mode\n",
    "Edit mode is indicated by a green (or some different color than when you are not editing the cell) cell border and a prompt showing in the editor area. When a cell is in edit mode, you can type into the cell, like a normal text editor. To enter the edit mode, navigate to the cell and press `Enter`\n",
    "<img src=\"./images/00/new_edit.png\" alt=\"Jupyter notebook dashboard\" align='center'>\n",
    "\n",
    "- ##### Command Mode\n",
    "Command mode is indicated by a grey cell border with a blue (or some different color than when you are editing the cell) left margin. To enter into command mode, press `Esc` key. This will bring you out of the edit mode\n",
    "<img src=\"./images/00/new_command.png\" alt=\"Jupyter notebook dashboard\" align='center'>\n",
    "\n",
    "- ##### Keyboard Shortcuts\n",
    "In command mode, the keyboard is mapped to a set of shortcuts that let you perform notebook and cell actions efficiently.\n",
    "Its recommended learning the command mode shortcuts in the following rough order:\n",
    "- Basic navigation: enter, shift-enter, up/k, down/j\n",
    "- Saving the notebook: s\n",
    "- Change Cell types: y, m, 1-6, t (markdown in this case)\n",
    "- Cell creation: a, b\n",
    "- Cell editing: x, c, v, d, z\n",
    "- Kernel operations: i, 0 (press twice)<br><br>\n",
    "This will help speed up your development time.\n",
    "To know more about keyboard shortcuts, click: `Help -> Keyboard Shortcuts` in the menu bar\n",
    "\n",
    "##### Closing and Deleting a Notebook\n",
    "The notebooks that are currently open are shown in green icon on dashboard page. The notebooks will remain running until you explicitly shut them down. To do that, check the box next to the notebook that you want to close and observe the controls on top of the notebook.\n",
    "<img src=\"./images/00/closing.png\" alt=\"Jupyter notebook dashboard\" align='center'>\n",
    "- To close the notebook, you can click on the `shutdown` button\n",
    "- To remove/ delete the notebook you can click on *recycle bin* next to the shutdown option"
   ]
  },
  {
   "cell_type": "markdown",
   "metadata": {},
   "source": [
    "##### At this stage, I would advise taking some time and familiarizing yourselves with the Notebook, UI and Cell shortcuts. "
   ]
  }
 ],
 "metadata": {
  "anaconda-cloud": {},
  "kernelspec": {
   "display_name": "Python 3",
   "language": "python",
   "name": "python3"
  },
  "language_info": {
   "codemirror_mode": {
    "name": "ipython",
    "version": 3
   },
   "file_extension": ".py",
   "mimetype": "text/x-python",
   "name": "python",
   "nbconvert_exporter": "python",
   "pygments_lexer": "ipython3",
   "version": "3.6.4"
  }
 },
 "nbformat": 4,
 "nbformat_minor": 1
}
